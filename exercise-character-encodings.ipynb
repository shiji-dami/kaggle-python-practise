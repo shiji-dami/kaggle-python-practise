{
 "cells": [
  {
   "cell_type": "markdown",
   "id": "901a54d5",
   "metadata": {
    "papermill": {
     "duration": 0.005092,
     "end_time": "2022-07-14T16:00:05.225141",
     "exception": false,
     "start_time": "2022-07-14T16:00:05.220049",
     "status": "completed"
    },
    "tags": []
   },
   "source": [
    "**This notebook is an exercise in the [Data Cleaning](https://www.kaggle.com/learn/data-cleaning) course.  You can reference the tutorial at [this link](https://www.kaggle.com/alexisbcook/character-encodings).**\n",
    "\n",
    "---\n"
   ]
  },
  {
   "cell_type": "markdown",
   "id": "d33928a5",
   "metadata": {
    "papermill": {
     "duration": 0.00388,
     "end_time": "2022-07-14T16:00:05.233450",
     "exception": false,
     "start_time": "2022-07-14T16:00:05.229570",
     "status": "completed"
    },
    "tags": []
   },
   "source": [
    "In this exercise, you'll apply what you learned in the **Character encodings** tutorial.\n",
    "\n",
    "# Setup\n",
    "\n",
    "The questions below will give you feedback on your work. Run the following cell to set up the feedback system."
   ]
  },
  {
   "cell_type": "code",
   "execution_count": 1,
   "id": "48475459",
   "metadata": {
    "execution": {
     "iopub.execute_input": "2022-07-14T16:00:05.244987Z",
     "iopub.status.busy": "2022-07-14T16:00:05.243994Z",
     "iopub.status.idle": "2022-07-14T16:00:05.333900Z",
     "shell.execute_reply": "2022-07-14T16:00:05.332664Z"
    },
    "papermill": {
     "duration": 0.099013,
     "end_time": "2022-07-14T16:00:05.336643",
     "exception": false,
     "start_time": "2022-07-14T16:00:05.237630",
     "status": "completed"
    },
    "tags": []
   },
   "outputs": [
    {
     "name": "stdout",
     "output_type": "stream",
     "text": [
      "Setup Complete\n"
     ]
    }
   ],
   "source": [
    "from learntools.core import binder\n",
    "binder.bind(globals())\n",
    "from learntools.data_cleaning.ex4 import *\n",
    "print(\"Setup Complete\")"
   ]
  },
  {
   "cell_type": "markdown",
   "id": "3110a089",
   "metadata": {
    "papermill": {
     "duration": 0.004008,
     "end_time": "2022-07-14T16:00:05.345144",
     "exception": false,
     "start_time": "2022-07-14T16:00:05.341136",
     "status": "completed"
    },
    "tags": []
   },
   "source": [
    "# Get our environment set up\n",
    "\n",
    "The first thing we'll need to do is load in the libraries we'll be using."
   ]
  },
  {
   "cell_type": "code",
   "execution_count": 2,
   "id": "19d988c7",
   "metadata": {
    "execution": {
     "iopub.execute_input": "2022-07-14T16:00:05.355668Z",
     "iopub.status.busy": "2022-07-14T16:00:05.354930Z",
     "iopub.status.idle": "2022-07-14T16:00:05.359738Z",
     "shell.execute_reply": "2022-07-14T16:00:05.358532Z"
    },
    "papermill": {
     "duration": 0.0128,
     "end_time": "2022-07-14T16:00:05.362089",
     "exception": false,
     "start_time": "2022-07-14T16:00:05.349289",
     "status": "completed"
    },
    "tags": []
   },
   "outputs": [],
   "source": [
    "# modules we'll use\n",
    "import pandas as pd\n",
    "import numpy as np\n",
    "\n",
    "# helpful character encoding module\n",
    "import chardet\n",
    "\n",
    "# set seed for reproducibility\n",
    "np.random.seed(0)"
   ]
  },
  {
   "cell_type": "markdown",
   "id": "6fcf5b96",
   "metadata": {
    "papermill": {
     "duration": 0.004071,
     "end_time": "2022-07-14T16:00:05.370510",
     "exception": false,
     "start_time": "2022-07-14T16:00:05.366439",
     "status": "completed"
    },
    "tags": []
   },
   "source": [
    "# 1) What are encodings?\n",
    "\n",
    "You're working with a dataset composed of bytes.  Run the code cell below to print a sample entry."
   ]
  },
  {
   "cell_type": "code",
   "execution_count": 3,
   "id": "616687dd",
   "metadata": {
    "execution": {
     "iopub.execute_input": "2022-07-14T16:00:05.380438Z",
     "iopub.status.busy": "2022-07-14T16:00:05.380042Z",
     "iopub.status.idle": "2022-07-14T16:00:05.384950Z",
     "shell.execute_reply": "2022-07-14T16:00:05.384212Z"
    },
    "papermill": {
     "duration": 0.013133,
     "end_time": "2022-07-14T16:00:05.387788",
     "exception": false,
     "start_time": "2022-07-14T16:00:05.374655",
     "status": "completed"
    },
    "tags": []
   },
   "outputs": [
    {
     "name": "stdout",
     "output_type": "stream",
     "text": [
      "b'\\xa7A\\xa6n'\n",
      "data type: <class 'bytes'>\n"
     ]
    }
   ],
   "source": [
    "sample_entry = b'\\xa7A\\xa6n'\n",
    "print(sample_entry)\n",
    "print('data type:', type(sample_entry))"
   ]
  },
  {
   "cell_type": "markdown",
   "id": "6fcdccf3",
   "metadata": {
    "papermill": {
     "duration": 0.004078,
     "end_time": "2022-07-14T16:00:05.397691",
     "exception": false,
     "start_time": "2022-07-14T16:00:05.393613",
     "status": "completed"
    },
    "tags": []
   },
   "source": [
    "You notice that it doesn't use the standard UTF-8 encoding. \n",
    "\n",
    "Use the next code cell to create a variable `new_entry` that changes the encoding from `\"big5-tw\"` to `\"utf-8\"`.  `new_entry` should have the bytes datatype."
   ]
  },
  {
   "cell_type": "code",
   "execution_count": 4,
   "id": "f603357c",
   "metadata": {
    "execution": {
     "iopub.execute_input": "2022-07-14T16:00:05.407632Z",
     "iopub.status.busy": "2022-07-14T16:00:05.407242Z",
     "iopub.status.idle": "2022-07-14T16:00:05.416889Z",
     "shell.execute_reply": "2022-07-14T16:00:05.415727Z"
    },
    "papermill": {
     "duration": 0.016958,
     "end_time": "2022-07-14T16:00:05.418835",
     "exception": false,
     "start_time": "2022-07-14T16:00:05.401877",
     "status": "completed"
    },
    "tags": []
   },
   "outputs": [
    {
     "data": {
      "text/plain": [
       "bytes"
      ]
     },
     "execution_count": 4,
     "metadata": {},
     "output_type": "execute_result"
    }
   ],
   "source": [
    "entry = sample_entry.decode(\"big5-tw\")\n",
    "new_entry = entry.encode()\n",
    "type(new_entry)"
   ]
  },
  {
   "cell_type": "code",
   "execution_count": 5,
   "id": "9eba1ad2",
   "metadata": {
    "execution": {
     "iopub.execute_input": "2022-07-14T16:00:05.429972Z",
     "iopub.status.busy": "2022-07-14T16:00:05.429334Z",
     "iopub.status.idle": "2022-07-14T16:00:05.437924Z",
     "shell.execute_reply": "2022-07-14T16:00:05.436858Z"
    },
    "papermill": {
     "duration": 0.016669,
     "end_time": "2022-07-14T16:00:05.440009",
     "exception": false,
     "start_time": "2022-07-14T16:00:05.423340",
     "status": "completed"
    },
    "tags": []
   },
   "outputs": [
    {
     "data": {
      "application/javascript": [
       "parent.postMessage({\"jupyterEvent\": \"custom.exercise_interaction\", \"data\": {\"outcomeType\": 1, \"valueTowardsCompletion\": 0.3333333333333333, \"interactionType\": 1, \"questionType\": 1, \"questionId\": \"1_EncodingsIntro\", \"learnToolsVersion\": \"0.3.4\", \"failureMessage\": \"\", \"exceptionClass\": \"\", \"trace\": \"\"}}, \"*\")"
      ],
      "text/plain": [
       "<IPython.core.display.Javascript object>"
      ]
     },
     "metadata": {},
     "output_type": "display_data"
    },
    {
     "data": {
      "text/markdown": [
       "<span style=\"color:#33cc33\">Correct</span>"
      ],
      "text/plain": [
       "Correct"
      ]
     },
     "metadata": {},
     "output_type": "display_data"
    }
   ],
   "source": [
    "new_entry = entry.encode()\n",
    "\n",
    "# Check your answer\n",
    "q1.check()"
   ]
  },
  {
   "cell_type": "code",
   "execution_count": 6,
   "id": "6fdf89a0",
   "metadata": {
    "execution": {
     "iopub.execute_input": "2022-07-14T16:00:05.450914Z",
     "iopub.status.busy": "2022-07-14T16:00:05.450515Z",
     "iopub.status.idle": "2022-07-14T16:00:05.454760Z",
     "shell.execute_reply": "2022-07-14T16:00:05.453674Z"
    },
    "papermill": {
     "duration": 0.012404,
     "end_time": "2022-07-14T16:00:05.456962",
     "exception": false,
     "start_time": "2022-07-14T16:00:05.444558",
     "status": "completed"
    },
    "tags": []
   },
   "outputs": [],
   "source": [
    "# Lines below will give you a hint or solution code\n",
    "#q1.hint()\n",
    "#q1.solution()"
   ]
  },
  {
   "cell_type": "markdown",
   "id": "47e82975",
   "metadata": {
    "papermill": {
     "duration": 0.004114,
     "end_time": "2022-07-14T16:00:05.465776",
     "exception": false,
     "start_time": "2022-07-14T16:00:05.461662",
     "status": "completed"
    },
    "tags": []
   },
   "source": [
    "# 2) Reading in files with encoding problems\n",
    "\n",
    "Use the code cell below to read in this file at path `\"../input/fatal-police-shootings-in-the-us/PoliceKillingsUS.csv\"`.  \n",
    "\n",
    "Figure out what the correct encoding should be and read in the file to a DataFrame `police_killings`."
   ]
  },
  {
   "cell_type": "code",
   "execution_count": 7,
   "id": "26b00431",
   "metadata": {
    "execution": {
     "iopub.execute_input": "2022-07-14T16:00:05.476218Z",
     "iopub.status.busy": "2022-07-14T16:00:05.475843Z",
     "iopub.status.idle": "2022-07-14T16:00:05.890846Z",
     "shell.execute_reply": "2022-07-14T16:00:05.889589Z"
    },
    "papermill": {
     "duration": 0.423109,
     "end_time": "2022-07-14T16:00:05.893185",
     "exception": false,
     "start_time": "2022-07-14T16:00:05.470076",
     "status": "completed"
    },
    "tags": []
   },
   "outputs": [
    {
     "name": "stdout",
     "output_type": "stream",
     "text": [
      "{'encoding': 'Windows-1252', 'confidence': 0.73, 'language': ''}\n"
     ]
    }
   ],
   "source": [
    "with open(\"../input/fatal-police-shootings-in-the-us/PoliceKillingsUS.csv\", 'rb') as rawdata:\n",
    "    result = chardet.detect(rawdata.read(26000))\n",
    "\n",
    "# check what the character encoding might be\n",
    "print(result)"
   ]
  },
  {
   "cell_type": "code",
   "execution_count": 8,
   "id": "7c899256",
   "metadata": {
    "execution": {
     "iopub.execute_input": "2022-07-14T16:00:05.904529Z",
     "iopub.status.busy": "2022-07-14T16:00:05.904093Z",
     "iopub.status.idle": "2022-07-14T16:00:05.929413Z",
     "shell.execute_reply": "2022-07-14T16:00:05.928240Z"
    },
    "papermill": {
     "duration": 0.033346,
     "end_time": "2022-07-14T16:00:05.931532",
     "exception": false,
     "start_time": "2022-07-14T16:00:05.898186",
     "status": "completed"
    },
    "tags": []
   },
   "outputs": [
    {
     "data": {
      "application/javascript": [
       "parent.postMessage({\"jupyterEvent\": \"custom.exercise_interaction\", \"data\": {\"outcomeType\": 1, \"valueTowardsCompletion\": 0.3333333333333333, \"interactionType\": 1, \"questionType\": 1, \"questionId\": \"2_ReadIn\", \"learnToolsVersion\": \"0.3.4\", \"failureMessage\": \"\", \"exceptionClass\": \"\", \"trace\": \"\"}}, \"*\")"
      ],
      "text/plain": [
       "<IPython.core.display.Javascript object>"
      ]
     },
     "metadata": {},
     "output_type": "display_data"
    },
    {
     "data": {
      "text/markdown": [
       "<span style=\"color:#33cc33\">Correct</span>"
      ],
      "text/plain": [
       "Correct"
      ]
     },
     "metadata": {},
     "output_type": "display_data"
    }
   ],
   "source": [
    "# TODO: Load in the DataFrame correctly.\n",
    "police_killings = pd.read_csv(\"../input/fatal-police-shootings-in-the-us/PoliceKillingsUS.csv\", encoding='Windows-1252')\n",
    "# Check your answer\n",
    "q2.check()"
   ]
  },
  {
   "cell_type": "markdown",
   "id": "dddc71d4",
   "metadata": {
    "papermill": {
     "duration": 0.004509,
     "end_time": "2022-07-14T16:00:05.940740",
     "exception": false,
     "start_time": "2022-07-14T16:00:05.936231",
     "status": "completed"
    },
    "tags": []
   },
   "source": [
    "Feel free to use any additional code cells for supplemental work.  To get credit for finishing this question, you'll need to run `q2.check()` and get a result of **Correct**."
   ]
  },
  {
   "cell_type": "code",
   "execution_count": 9,
   "id": "43fcb617",
   "metadata": {
    "execution": {
     "iopub.execute_input": "2022-07-14T16:00:05.952414Z",
     "iopub.status.busy": "2022-07-14T16:00:05.951433Z",
     "iopub.status.idle": "2022-07-14T16:00:05.956618Z",
     "shell.execute_reply": "2022-07-14T16:00:05.955404Z"
    },
    "papermill": {
     "duration": 0.013292,
     "end_time": "2022-07-14T16:00:05.958772",
     "exception": false,
     "start_time": "2022-07-14T16:00:05.945480",
     "status": "completed"
    },
    "tags": []
   },
   "outputs": [],
   "source": [
    "# (Optional) Use this code cell for any additional work."
   ]
  },
  {
   "cell_type": "code",
   "execution_count": 10,
   "id": "7cdbeba5",
   "metadata": {
    "execution": {
     "iopub.execute_input": "2022-07-14T16:00:05.970318Z",
     "iopub.status.busy": "2022-07-14T16:00:05.969691Z",
     "iopub.status.idle": "2022-07-14T16:00:05.973893Z",
     "shell.execute_reply": "2022-07-14T16:00:05.972828Z"
    },
    "papermill": {
     "duration": 0.011904,
     "end_time": "2022-07-14T16:00:05.975654",
     "exception": false,
     "start_time": "2022-07-14T16:00:05.963750",
     "status": "completed"
    },
    "tags": []
   },
   "outputs": [],
   "source": [
    "# Lines below will give you a hint or solution code\n",
    "#q2.hint()\n",
    "#q2.solution()"
   ]
  },
  {
   "cell_type": "markdown",
   "id": "2b6052ab",
   "metadata": {
    "papermill": {
     "duration": 0.004577,
     "end_time": "2022-07-14T16:00:05.985133",
     "exception": false,
     "start_time": "2022-07-14T16:00:05.980556",
     "status": "completed"
    },
    "tags": []
   },
   "source": [
    "# 3) Saving your files with UTF-8 encoding\n",
    "\n",
    "Save a version of the police killings dataset to CSV with UTF-8 encoding.  Your answer will be marked correct after saving this file.  \n",
    "\n",
    "Note: When using the `to_csv()` method, supply only the name of the file (e.g., `\"my_file.csv\"`).  This saves the file at the filepath `\"/kaggle/working/my_file.csv\"`."
   ]
  },
  {
   "cell_type": "code",
   "execution_count": 11,
   "id": "e59392d5",
   "metadata": {
    "execution": {
     "iopub.execute_input": "2022-07-14T16:00:05.997324Z",
     "iopub.status.busy": "2022-07-14T16:00:05.996608Z",
     "iopub.status.idle": "2022-07-14T16:00:06.029075Z",
     "shell.execute_reply": "2022-07-14T16:00:06.028274Z"
    },
    "papermill": {
     "duration": 0.041254,
     "end_time": "2022-07-14T16:00:06.031232",
     "exception": false,
     "start_time": "2022-07-14T16:00:05.989978",
     "status": "completed"
    },
    "tags": []
   },
   "outputs": [
    {
     "data": {
      "application/javascript": [
       "parent.postMessage({\"jupyterEvent\": \"custom.exercise_interaction\", \"data\": {\"outcomeType\": 1, \"valueTowardsCompletion\": 0.3333333333333333, \"interactionType\": 1, \"questionType\": 2, \"questionId\": \"3_SaveCSV\", \"learnToolsVersion\": \"0.3.4\", \"failureMessage\": \"\", \"exceptionClass\": \"\", \"trace\": \"\"}}, \"*\")"
      ],
      "text/plain": [
       "<IPython.core.display.Javascript object>"
      ]
     },
     "metadata": {},
     "output_type": "display_data"
    },
    {
     "data": {
      "text/markdown": [
       "<span style=\"color:#33cc33\">Correct</span>"
      ],
      "text/plain": [
       "Correct"
      ]
     },
     "metadata": {},
     "output_type": "display_data"
    }
   ],
   "source": [
    "# TODO: Save the police killings dataset to CSV\n",
    "police_killings.to_csv(\"police_killings_-utf8.csv\")\n",
    "\n",
    "# Check your answer\n",
    "q3.check()"
   ]
  },
  {
   "cell_type": "code",
   "execution_count": 12,
   "id": "06fdbb6c",
   "metadata": {
    "execution": {
     "iopub.execute_input": "2022-07-14T16:00:06.043207Z",
     "iopub.status.busy": "2022-07-14T16:00:06.042553Z",
     "iopub.status.idle": "2022-07-14T16:00:06.046011Z",
     "shell.execute_reply": "2022-07-14T16:00:06.045338Z"
    },
    "papermill": {
     "duration": 0.011622,
     "end_time": "2022-07-14T16:00:06.047799",
     "exception": false,
     "start_time": "2022-07-14T16:00:06.036177",
     "status": "completed"
    },
    "tags": []
   },
   "outputs": [],
   "source": [
    "# Lines below will give you a hint or solution code\n",
    "#q3.hint()\n",
    "#q3.solution()"
   ]
  },
  {
   "cell_type": "markdown",
   "id": "94b1202e",
   "metadata": {
    "papermill": {
     "duration": 0.004815,
     "end_time": "2022-07-14T16:00:06.057536",
     "exception": false,
     "start_time": "2022-07-14T16:00:06.052721",
     "status": "completed"
    },
    "tags": []
   },
   "source": [
    "# (Optional) More practice\n",
    "\n",
    "Check out [this dataset of files in different character encodings](https://www.kaggle.com/rtatman/character-encoding-examples). Can you read in all the files with their original encodings and them save them out as UTF-8 files?\n",
    "\n",
    "If you have a file that's in UTF-8 but has just a couple of weird-looking characters in it, you can try out the [ftfy module](https://ftfy.readthedocs.io/en/latest/#) and see if it helps. \n",
    "\n",
    "# Keep going\n",
    "\n",
    "In the final lesson, learn how to [**clean up inconsistent text entries**](https://www.kaggle.com/alexisbcook/inconsistent-data-entry) in your dataset."
   ]
  },
  {
   "cell_type": "markdown",
   "id": "12b5b019",
   "metadata": {
    "papermill": {
     "duration": 0.004784,
     "end_time": "2022-07-14T16:00:06.067490",
     "exception": false,
     "start_time": "2022-07-14T16:00:06.062706",
     "status": "completed"
    },
    "tags": []
   },
   "source": [
    "---\n",
    "\n",
    "\n",
    "\n",
    "\n",
    "*Have questions or comments? Visit the [course discussion forum](https://www.kaggle.com/learn/data-cleaning/discussion) to chat with other learners.*"
   ]
  }
 ],
 "metadata": {
  "kernelspec": {
   "display_name": "Python 3",
   "language": "python",
   "name": "python3"
  },
  "language_info": {
   "codemirror_mode": {
    "name": "ipython",
    "version": 3
   },
   "file_extension": ".py",
   "mimetype": "text/x-python",
   "name": "python",
   "nbconvert_exporter": "python",
   "pygments_lexer": "ipython3",
   "version": "3.7.12"
  },
  "papermill": {
   "default_parameters": {},
   "duration": 10.791401,
   "end_time": "2022-07-14T16:00:06.693649",
   "environment_variables": {},
   "exception": null,
   "input_path": "__notebook__.ipynb",
   "output_path": "__notebook__.ipynb",
   "parameters": {},
   "start_time": "2022-07-14T15:59:55.902248",
   "version": "2.3.4"
  }
 },
 "nbformat": 4,
 "nbformat_minor": 5
}
